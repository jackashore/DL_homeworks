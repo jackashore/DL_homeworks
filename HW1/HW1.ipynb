{
 "cells": [
  {
   "cell_type": "markdown",
   "metadata": {},
   "source": [
    "# Задание: написать простую двухслойную нейросеть на numpy"
   ]
  },
  {
   "cell_type": "code",
   "execution_count": 1,
   "metadata": {},
   "outputs": [],
   "source": [
    "import numpy as np\n",
    "\n",
    "from sklearn.metrics import classification_report\n",
    "\n",
    "import torch\n",
    "from torch.utils.data import DataLoader\n",
    "from torchvision.datasets import MNIST\n",
    "from torchvision import transforms\n",
    "\n",
    "import matplotlib.pyplot as plt\n",
    "\n",
    "from tqdm import tqdm\n",
    "\n",
    "from sklearn.metrics import accuracy_score\n",
    "\n",
    "import time"
   ]
  },
  {
   "cell_type": "code",
   "execution_count": 2,
   "metadata": {},
   "outputs": [],
   "source": [
    "transform = transforms.Compose([\n",
    "    transforms.ToTensor(),\n",
    "    transforms.Normalize((0.1307,), (0.3081,))\n",
    "])"
   ]
  },
  {
   "cell_type": "markdown",
   "metadata": {},
   "source": [
    "## Загружаем датасет"
   ]
  },
  {
   "cell_type": "code",
   "execution_count": 3,
   "metadata": {},
   "outputs": [
    {
     "name": "stderr",
     "output_type": "stream",
     "text": [
      "\r",
      "0it [00:00, ?it/s]"
     ]
    },
    {
     "name": "stdout",
     "output_type": "stream",
     "text": [
      "Downloading http://yann.lecun.com/exdb/mnist/train-images-idx3-ubyte.gz to ./MNIST/raw/train-images-idx3-ubyte.gz\n"
     ]
    },
    {
     "name": "stderr",
     "output_type": "stream",
     "text": [
      "9920512it [00:02, 4022252.13it/s]                             \n"
     ]
    },
    {
     "name": "stdout",
     "output_type": "stream",
     "text": [
      "Extracting ./MNIST/raw/train-images-idx3-ubyte.gz to ./MNIST/raw\n"
     ]
    },
    {
     "name": "stderr",
     "output_type": "stream",
     "text": [
      "\r",
      "0it [00:00, ?it/s]"
     ]
    },
    {
     "name": "stdout",
     "output_type": "stream",
     "text": [
      "Downloading http://yann.lecun.com/exdb/mnist/train-labels-idx1-ubyte.gz to ./MNIST/raw/train-labels-idx1-ubyte.gz\n"
     ]
    },
    {
     "name": "stderr",
     "output_type": "stream",
     "text": [
      "32768it [00:00, 79586.13it/s]                            \n",
      "0it [00:00, ?it/s]"
     ]
    },
    {
     "name": "stdout",
     "output_type": "stream",
     "text": [
      "Extracting ./MNIST/raw/train-labels-idx1-ubyte.gz to ./MNIST/raw\n",
      "Downloading http://yann.lecun.com/exdb/mnist/t10k-images-idx3-ubyte.gz to ./MNIST/raw/t10k-images-idx3-ubyte.gz\n"
     ]
    },
    {
     "name": "stderr",
     "output_type": "stream",
     "text": [
      "1654784it [00:03, 494590.33it/s]                             \n",
      "0it [00:00, ?it/s]"
     ]
    },
    {
     "name": "stdout",
     "output_type": "stream",
     "text": [
      "Extracting ./MNIST/raw/t10k-images-idx3-ubyte.gz to ./MNIST/raw\n",
      "Downloading http://yann.lecun.com/exdb/mnist/t10k-labels-idx1-ubyte.gz to ./MNIST/raw/t10k-labels-idx1-ubyte.gz\n"
     ]
    },
    {
     "name": "stderr",
     "output_type": "stream",
     "text": [
      "8192it [00:00, 18305.37it/s]            "
     ]
    },
    {
     "name": "stdout",
     "output_type": "stream",
     "text": [
      "Extracting ./MNIST/raw/t10k-labels-idx1-ubyte.gz to ./MNIST/raw\n",
      "Processing...\n",
      "Done!\n"
     ]
    },
    {
     "name": "stderr",
     "output_type": "stream",
     "text": [
      "\n"
     ]
    }
   ],
   "source": [
    "train_dataset = MNIST('.', train=True, download=True, transform=transform)\n",
    "test_dataset = MNIST('.', train=False, transform=transform)"
   ]
  },
  {
   "cell_type": "markdown",
   "metadata": {},
   "source": [
    "## Переводим его в два класса"
   ]
  },
  {
   "cell_type": "code",
   "execution_count": 4,
   "metadata": {},
   "outputs": [],
   "source": [
    "train_dataset.data = train_dataset.data[(train_dataset.targets == 3) | (train_dataset.targets == 7)]\n",
    "train_dataset.targets = train_dataset.targets[(train_dataset.targets == 3) | (train_dataset.targets == 7)]\n",
    "\n",
    "test_dataset.data = test_dataset.data[(test_dataset.targets == 3) | (test_dataset.targets == 7)]\n",
    "test_dataset.targets = test_dataset.targets[(test_dataset.targets == 3) | (test_dataset.targets == 7)]\n",
    "\n",
    "train_dataset.targets = (train_dataset.targets == 7).long()\n",
    "test_dataset.targets = (test_dataset.targets == 7).long()"
   ]
  },
  {
   "cell_type": "markdown",
   "metadata": {},
   "source": [
    "## Оборачиваем в итератор данных"
   ]
  },
  {
   "cell_type": "code",
   "execution_count": 5,
   "metadata": {},
   "outputs": [],
   "source": [
    "train_loader = DataLoader(train_dataset, batch_size=128, shuffle=True)\n",
    "test_loader = DataLoader(test_dataset, batch_size=128, shuffle=False)"
   ]
  },
  {
   "cell_type": "markdown",
   "metadata": {},
   "source": [
    "## Порисуем данные"
   ]
  },
  {
   "cell_type": "code",
   "execution_count": 6,
   "metadata": {},
   "outputs": [
    {
     "data": {
      "image/png": "[encoded data removed]",
      "text/plain": [
       "<Figure size 432x504 with 25 Axes>"
      ]
     },
     "metadata": {
      "needs_background": "light"
     },
     "output_type": "display_data"
    }
   ],
   "source": [
    "X, y = next(iter(train_loader))\n",
    "X = X.numpy()\n",
    "y = y.numpy()\n",
    "\n",
    "plt.figure(figsize=(6, 7))\n",
    "for i in range(25):\n",
    "    plt.subplot(5, 5, i+1)\n",
    "    plt.imshow(X[i].reshape(28, 28), cmap=plt.cm.Greys_r)\n",
    "    plt.title(y[i])\n",
    "    plt.axis('off')"
   ]
  },
  {
   "cell_type": "markdown",
   "metadata": {},
   "source": [
    "### классу 0 соответствует цифра 3\n",
    "### классу 1 соответствует цифра 7"
   ]
  },
  {
   "cell_type": "markdown",
   "metadata": {},
   "source": [
    "# поучим пока не очень красиво нашу 2-х слойную нейронку"
   ]
  },
  {
   "cell_type": "code",
   "execution_count": 7,
   "metadata": {},
   "outputs": [],
   "source": [
    "def bce(y_true, y_proba, batch_size):    \n",
    "    return - np.sum((y_true * np.log(y_proba) + (1 - y_true) * np.log(1 - y_proba))) / batch_size"
   ]
  },
  {
   "cell_type": "code",
   "execution_count": 8,
   "metadata": {},
   "outputs": [
    {
     "name": "stdout",
     "output_type": "stream",
     "text": [
      "Epoch: 1\n",
      "loss: 0.33213188492488693\n",
      "Epoch: 2\n",
      "loss: 0.04829730635030577\n",
      "Epoch: 3\n",
      "loss: 0.03409769129794581\n",
      "Epoch: 4\n",
      "loss: 0.027667046915879435\n",
      "Epoch: 5\n",
      "loss: 0.022220939797490763\n",
      "Epoch: 6\n",
      "loss: 0.018744293133827174\n",
      "Epoch: 7\n",
      "loss: 0.015111978347060554\n",
      "Epoch: 8\n",
      "loss: 0.012755772725834306\n",
      "Epoch: 9\n",
      "loss: 0.011121934128602958\n",
      "Epoch: 10\n",
      "loss: 0.009847097166810476\n"
     ]
    }
   ],
   "source": [
    "learning_rate = 0.01\n",
    "epochs = 10\n",
    "\n",
    "w1 = np.random.rand(784, 256) * 0.01\n",
    "b1 = np.zeros(256)\n",
    "w2 = np.random.rand(256, 1) * 0.01\n",
    "b2 = np.zeros(1)\n",
    "\n",
    "losses = []\n",
    "\n",
    "for n_epoch in range(epochs):\n",
    "    \n",
    "    print(f'Epoch: {n_epoch + 1}')\n",
    "    epoch_losses = []\n",
    "    \n",
    "    for x, y in train_loader:\n",
    "        \n",
    "        x = x.view(x.shape[0], -1).numpy()\n",
    "        y = np.expand_dims(y.numpy(), 1)\n",
    "        \n",
    "        # forward\n",
    "        z1 = np.dot(x, w1) + b1\n",
    "        a1 = 1 / (1 + np.exp(-z1))        \n",
    "        z2 = np.dot(a1, w2) + b2\n",
    "        pred = 1 / (1 + np.exp(-z2))\n",
    "        \n",
    "        # расчет bce\n",
    "        epoch_losses.append(bce(y, pred, 128))\n",
    "        \n",
    "        # backward\n",
    "        d_loss_d_pred = - (y * (1 / pred) + (1 - y) * (- (1 / (1 - pred))))\n",
    "        d_pred_d_z2 = (1 / (1 + np.exp(-z2))) * (1 - 1 / (1 + np.exp(-z2))) * d_loss_d_pred\n",
    "        d_z2_d_a1 = np.dot(d_pred_d_z2, w2.T)\n",
    "        d_z2_d_w2 = np.dot(a1.T, d_pred_d_z2)\n",
    "        d_z2_d_b2 = np.sum(d_pred_d_z2, axis=0)\n",
    "        d_a1_d_z1 = (1 / (1 + np.exp(-z1))) * (1 - 1 / (1 + np.exp(-z1))) * d_z2_d_a1\n",
    "        d_z1_d_w1 = np.dot(x.T, d_a1_d_z1)\n",
    "        d_z1_d_b1 = np.sum(d_a1_d_z1, axis=0)                                                         \n",
    "        \n",
    "        # gradient descent\n",
    "        \n",
    "        w2 = w2 - learning_rate * d_z2_d_w2\n",
    "        b2 = b2 - learning_rate * d_z2_d_b2\n",
    "        w1 = w1 - learning_rate * d_z1_d_w1\n",
    "        b1 = b1 - learning_rate * d_z1_d_b1\n",
    "        \n",
    "    losses.append(np.mean(epoch_losses))\n",
    "    \n",
    "    print(f'loss: {np.mean(epoch_losses)}')\n",
    "        \n",
    "        "
   ]
  },
  {
   "cell_type": "code",
   "execution_count": 9,
   "metadata": {},
   "outputs": [
    {
     "data": {
      "image/png": "[encoded data removed]",
      "text/plain": [
       "<Figure size 1008x864 with 1 Axes>"
      ]
     },
     "metadata": {
      "needs_background": "light"
     },
     "output_type": "display_data"
    }
   ],
   "source": [
    "plt.figure(figsize=(14, 12))\n",
    "plt.plot(losses)\n",
    "plt.grid()\n",
    "plt.title('Training process')\n",
    "plt.xlabel('Iterations')\n",
    "plt.ylabel('Loss function');"
   ]
  },
  {
   "cell_type": "markdown",
   "metadata": {},
   "source": [
    "# по-крутому"
   ]
  },
  {
   "cell_type": "code",
   "execution_count": 10,
   "metadata": {},
   "outputs": [],
   "source": [
    "class Sigmoid:\n",
    "\n",
    "    def __init__(self):\n",
    "\n",
    "        self._sigmoid_result = None\n",
    "\n",
    "    def forward(self, x):\n",
    "\n",
    "        self._sigmoid_result = 1 / (1 + np.exp(-x))\n",
    "\n",
    "        return self._sigmoid_result\n",
    "\n",
    "    def backward(self, grad):\n",
    "        \n",
    "        new_grad = self._sigmoid_result * (1 - self._sigmoid_result) * grad\n",
    "\n",
    "        return new_grad\n",
    "\n",
    "    def step(self, learning_step):\n",
    "\n",
    "        pass"
   ]
  },
  {
   "cell_type": "code",
   "execution_count": 11,
   "metadata": {},
   "outputs": [],
   "source": [
    "class ReLU:\n",
    "\n",
    "    def __init__(self):\n",
    "        \n",
    "        self._RelU_result = None\n",
    "\n",
    "    def forward(self, x):\n",
    "\n",
    "        self._RelU_result = np.maximum(0, x)\n",
    "        \n",
    "        return self._RelU_result\n",
    "\n",
    "    def backward(self, grad):\n",
    "        \n",
    "        relu_grad = self._RelU_result > 0\n",
    "        new_grad = grad * relu_grad\n",
    "        \n",
    "        return new_grad\n",
    "\n",
    "    def step(self, learning_rate):\n",
    "\n",
    "        pass"
   ]
  },
  {
   "cell_type": "code",
   "execution_count": 12,
   "metadata": {},
   "outputs": [],
   "source": [
    "class Linear:\n",
    "\n",
    "    def __init__(self, in_features, out_features):\n",
    "        # инициализируем веса\n",
    "        self.weight = np.random.rand(in_features, out_features) * 0.01\n",
    "        self.bias = np.zeros(out_features)\n",
    "        \n",
    "        # сохраняем градиент для весов\n",
    "        self._grad_weight = None\n",
    "        self._grad_bias = None\n",
    "\n",
    "    def forward(self, x):\n",
    "        self.x = x\n",
    "        return np.dot(x, self.weight) + self.bias\n",
    "\n",
    "    def backward(self, grad):\n",
    "        self._grad_weight = np.dot(self.x.T, grad)\n",
    "        self._grad_bias = np.sum(grad, axis=0)\n",
    "        return np.dot(grad, self.weight.T)\n",
    "\n",
    "    def step(self, learning_rate):\n",
    "        self.weight -= learning_rate * self._grad_weight\n",
    "        self.bias -= learning_rate * self._grad_bias"
   ]
  },
  {
   "cell_type": "code",
   "execution_count": 13,
   "metadata": {},
   "outputs": [],
   "source": [
    "class BCELoss:\n",
    "\n",
    "    def __init__(self):\n",
    "        \n",
    "        pass\n",
    "\n",
    "    def forward(self, x, y):\n",
    "\n",
    "        y = np.expand_dims(y, 1)\n",
    "        self.x = x\n",
    "        self.y = y\n",
    "        \n",
    "        return - np.sum((self.y * np.log(self.x) + (1 - self.y) * np.log(1 - self.x))) / self.x.shape[0]\n",
    "\n",
    "    def backward(self):\n",
    "        return - (self.y * (1 / self.x) + (1 - self.y) * (- (1 / (1 - self.x)))) / self.x.shape[0]\n",
    "    \n",
    "    def step(self, learning_rate):\n",
    "        pass"
   ]
  },
  {
   "cell_type": "markdown",
   "metadata": {},
   "source": [
    "# Реализуйте обёртку над слоями - нейронную сеть"
   ]
  },
  {
   "cell_type": "code",
   "execution_count": 14,
   "metadata": {},
   "outputs": [],
   "source": [
    "class NeuralNetwork:\n",
    "\n",
    "    def __init__(self, modules):\n",
    "\n",
    "        # список слоев\n",
    "        self.modules = modules\n",
    "\n",
    "    def forward(self, x):\n",
    "        \n",
    "        for layer in self.modules:\n",
    "            x = layer.forward(x)\n",
    "        return x\n",
    "            \n",
    "    def backward(self, grad):\n",
    "        \"\"\"\n",
    "        :grad: градиент от функции потерь\n",
    "        :return: возвращать ничего не потребуется\n",
    "        \"\"\"\n",
    "        for layer in self.modules[::-1]:\n",
    "            grad = layer.backward(grad)\n",
    "            \n",
    "            \n",
    "    def step(self, learning_rate):    \n",
    "        for layer in self.modules[::-1]:\n",
    "            layer.step(learning_rate)"
   ]
  },
  {
   "cell_type": "markdown",
   "metadata": {},
   "source": [
    "## Реализуйте обертку над моделью"
   ]
  },
  {
   "cell_type": "code",
   "execution_count": 15,
   "metadata": {},
   "outputs": [],
   "source": [
    "from our_library import wrapper"
   ]
  },
  {
   "cell_type": "code",
   "execution_count": 16,
   "metadata": {},
   "outputs": [],
   "source": [
    "class MNISTWrapper(wrapper.Wrapper):\n",
    "\n",
    "    def __init__(self, model, loss, learning_rate=0.001, multi_class=False):\n",
    "\n",
    "        # передаем параметры, чтобы отработал __init__ от наследуемого класса\n",
    "        # можно было бы сделать через **kwargs, но сделал так для наглядности и чтобы были подсказки в юпитере\n",
    "\n",
    "        super().__init__(model=model, loss=loss, learning_rate=learning_rate, multi_class=multi_class)\n",
    "\n",
    "    def train_batch(self, x, y):\n",
    "        \n",
    "        prediction = self.model.forward(x)\n",
    "        loss_batch = self.loss.forward(prediction, y)\n",
    "        grad = self.loss.backward()\n",
    "        self.model.backward(grad)\n",
    "        self.model.step(self.learning_rate)\n",
    "        \n",
    "        return loss_batch, prediction\n",
    "\n",
    "    def predict_batch(self, x):        \n",
    "        return self.model.forward(x)"
   ]
  },
  {
   "cell_type": "code",
   "execution_count": 17,
   "metadata": {},
   "outputs": [],
   "source": [
    "# задайте гиперпараметры\n",
    "learning_rate = 0.01\n",
    "epochs = 5\n",
    "\n",
    "# задайте слои в свою нейронную сеть, например, 3 слоя\n",
    "neural_network = NeuralNetwork([Linear(784, 256), ReLU(), Linear(256, 1), Sigmoid()])\n",
    "\n",
    "loss = BCELoss()"
   ]
  },
  {
   "cell_type": "code",
   "execution_count": 18,
   "metadata": {},
   "outputs": [],
   "source": [
    "classifier = MNISTWrapper(model=neural_network,\n",
    "                          loss=loss,\n",
    "                          learning_rate=learning_rate)"
   ]
  },
  {
   "cell_type": "code",
   "execution_count": 19,
   "metadata": {},
   "outputs": [
    {
     "name": "stderr",
     "output_type": "stream",
     "text": [
      "Epoch 1: 100%|██████████| 12396/12396 [00:05<00:00, 2264.69it/s, loss=0.63, metric=0.704] \n",
      "Epoch 2: 100%|██████████| 12396/12396 [00:03<00:00, 3130.38it/s, loss=0.393, metric=0.918]\n",
      "Epoch 3: 100%|██████████| 12396/12396 [00:03<00:00, 3580.87it/s, loss=0.143, metric=0.969]\n",
      "Epoch 4: 100%|██████████| 12396/12396 [00:03<00:00, 3180.34it/s, loss=0.0928, metric=0.975]\n",
      "Epoch 5: 100%|██████████| 12396/12396 [00:04<00:00, 3091.48it/s, loss=0.0774, metric=0.978]\n"
     ]
    }
   ],
   "source": [
    "classifier.train(train_loader, test_loader, epochs=epochs)"
   ]
  }
 ],
 "metadata": {
  "kernelspec": {
   "display_name": "Python 3",
   "language": "python",
   "name": "python3"
  },
  "language_info": {
   "codemirror_mode": {
    "name": "ipython",
    "version": 3
   },
   "file_extension": ".py",
   "mimetype": "text/x-python",
   "name": "python",
   "nbconvert_exporter": "python",
   "pygments_lexer": "ipython3",
   "version": "3.7.4"
  }
 },
 "nbformat": 4,
 "nbformat_minor": 2
}
