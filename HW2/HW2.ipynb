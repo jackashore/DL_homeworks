{
 "cells": [
  {
   "cell_type": "markdown",
   "metadata": {},
   "source": [
    "# Задание: обучить word2vec методом Skipgram"
   ]
  },
  {
   "cell_type": "code",
   "execution_count": 1,
   "metadata": {},
   "outputs": [],
   "source": [
    "import json\n",
    "import random\n",
    "from tqdm import tqdm\n",
    "import numpy as np\n",
    "\n",
    "from matplotlib import pyplot as plt\n",
    "from sklearn.decomposition import TruncatedSVD\n",
    "from sklearn.manifold import TSNE\n",
    "\n",
    "import torch\n",
    "\n",
    "from pylab import rcParams\n",
    "rcParams['figure.figsize'] = 15, 15"
   ]
  },
  {
   "cell_type": "markdown",
   "metadata": {},
   "source": [
    "# Загружаем данные\n",
    "Они уже обработанные и токенизированные."
   ]
  },
  {
   "cell_type": "code",
   "execution_count": 2,
   "metadata": {},
   "outputs": [],
   "source": [
    "with open('data/processed_corpus.json') as f:\n",
    "    corpus = json.load(f)"
   ]
  },
  {
   "cell_type": "code",
   "execution_count": 3,
   "metadata": {},
   "outputs": [
    {
     "data": {
      "text/plain": [
       "100000"
      ]
     },
     "execution_count": 3,
     "metadata": {},
     "output_type": "execute_result"
    }
   ],
   "source": [
    "len(corpus)"
   ]
  },
  {
   "cell_type": "code",
   "execution_count": 4,
   "metadata": {},
   "outputs": [
    {
     "name": "stdout",
     "output_type": "stream",
     "text": [
      "наш риэлтор мы ипотека выйти UNK оформлять ипотека сбер\n",
      "решить обратиться другой отделение который находиться мир ##число\n",
      "воробьев неизвестно это UNK момент\n",
      "один посоветовать обратиться банк продавец просьба перечислить деньга обратно\n",
      "собрать документ отсканировать отослать почта UNK sberbank ru ##число ноябрь\n"
     ]
    }
   ],
   "source": [
    "for text in corpus[:5]:\n",
    "    print(' '.join(text))"
   ]
  },
  {
   "cell_type": "markdown",
   "metadata": {},
   "source": [
    "# CBOW"
   ]
  },
  {
   "cell_type": "code",
   "execution_count": 5,
   "metadata": {},
   "outputs": [],
   "source": [
    "sample_text = corpus[1]"
   ]
  },
  {
   "cell_type": "code",
   "execution_count": 6,
   "metadata": {},
   "outputs": [
    {
     "data": {
      "text/plain": [
       "'решить обратиться другой отделение который находиться мир ##число'"
      ]
     },
     "execution_count": 6,
     "metadata": {},
     "output_type": "execute_result"
    }
   ],
   "source": [
    "' '.join(sample_text)"
   ]
  },
  {
   "cell_type": "markdown",
   "metadata": {},
   "source": [
    "# Разделить предложения на примеры методом CBOW"
   ]
  },
  {
   "cell_type": "code",
   "execution_count": 7,
   "metadata": {},
   "outputs": [],
   "source": [
    "def cbow_split(tokens, window, pad_token='PAD'):\n",
    "    \n",
    "    splits = []\n",
    "    \n",
    "    for word in tokens:\n",
    "        index_central = tokens.index(word)\n",
    "        left = [tokens[i] if i >= 0 else 'PAD' for i in range(index_central - window, index_central)]\n",
    "        right = [tokens[i] if i < len(tokens) else 'PAD' for i in range(index_central + 1, \\\n",
    "                                                                            index_central + 1 + window)]\n",
    "        splits.append((left, word, right))\n",
    "    return splits"
   ]
  },
  {
   "cell_type": "code",
   "execution_count": 8,
   "metadata": {},
   "outputs": [],
   "source": [
    "splits = cbow_split(sample_text, window=2)"
   ]
  },
  {
   "cell_type": "code",
   "execution_count": 9,
   "metadata": {},
   "outputs": [
    {
     "name": "stdout",
     "output_type": "stream",
     "text": [
      "Левый контекст: ['PAD', 'PAD']\n",
      "Центральное слово: решить\n",
      "Правый контекст: ['обратиться', 'другой']\n",
      "\n",
      "Левый контекст: ['PAD', 'решить']\n",
      "Центральное слово: обратиться\n",
      "Правый контекст: ['другой', 'отделение']\n",
      "\n",
      "Левый контекст: ['решить', 'обратиться']\n",
      "Центральное слово: другой\n",
      "Правый контекст: ['отделение', 'который']\n",
      "\n",
      "Левый контекст: ['обратиться', 'другой']\n",
      "Центральное слово: отделение\n",
      "Правый контекст: ['который', 'находиться']\n",
      "\n",
      "Левый контекст: ['другой', 'отделение']\n",
      "Центральное слово: который\n",
      "Правый контекст: ['находиться', 'мир']\n",
      "\n",
      "Левый контекст: ['отделение', 'который']\n",
      "Центральное слово: находиться\n",
      "Правый контекст: ['мир', '##число']\n",
      "\n",
      "Левый контекст: ['который', 'находиться']\n",
      "Центральное слово: мир\n",
      "Правый контекст: ['##число', 'PAD']\n",
      "\n",
      "Левый контекст: ['находиться', 'мир']\n",
      "Центральное слово: ##число\n",
      "Правый контекст: ['PAD', 'PAD']\n",
      "\n"
     ]
    }
   ],
   "source": [
    "for sample in splits:\n",
    "    print('Левый контекст:', sample[0])\n",
    "    print('Центральное слово:', sample[1])\n",
    "    print('Правый контекст:', sample[2], end='\\n\\n')"
   ]
  },
  {
   "cell_type": "code",
   "execution_count": 10,
   "metadata": {},
   "outputs": [
    {
     "data": {
      "text/plain": [
       "[(['PAD', 'PAD', 'PAD'], 'решить', ['обратиться', 'другой', 'отделение']),\n",
       " (['PAD', 'PAD', 'решить'], 'обратиться', ['другой', 'отделение', 'который']),\n",
       " (['PAD', 'решить', 'обратиться'],\n",
       "  'другой',\n",
       "  ['отделение', 'который', 'находиться']),\n",
       " (['решить', 'обратиться', 'другой'],\n",
       "  'отделение',\n",
       "  ['который', 'находиться', 'мир']),\n",
       " (['обратиться', 'другой', 'отделение'],\n",
       "  'который',\n",
       "  ['находиться', 'мир', '##число']),\n",
       " (['другой', 'отделение', 'который'], 'находиться', ['мир', '##число', 'PAD']),\n",
       " (['отделение', 'который', 'находиться'], 'мир', ['##число', 'PAD', 'PAD']),\n",
       " (['который', 'находиться', 'мир'], '##число', ['PAD', 'PAD', 'PAD'])]"
      ]
     },
     "execution_count": 10,
     "metadata": {},
     "output_type": "execute_result"
    }
   ],
   "source": [
    "cbow_split(sample_text, window=3)"
   ]
  },
  {
   "cell_type": "markdown",
   "metadata": {},
   "source": [
    "# Разделить предложения на примеры методом Skipgram"
   ]
  },
  {
   "cell_type": "code",
   "execution_count": 11,
   "metadata": {},
   "outputs": [],
   "source": [
    "def skipgram_split(tokens, window):\n",
    "    \n",
    "    splits = []\n",
    "    \n",
    "    for word in tokens:\n",
    "        index_central = tokens.index(word)\n",
    "        splits.extend([(tokens[i], word) for i in range(index_central - window, index_central) if i >= 0]) # left\n",
    "        splits.extend([(tokens[i], word) for i in range(index_central + 1, index_central + 1 + window) \\\n",
    "                       if i < len(tokens)]) # right\n",
    "        \n",
    "    return splits"
   ]
  },
  {
   "cell_type": "code",
   "execution_count": 12,
   "metadata": {},
   "outputs": [],
   "source": [
    "splits = skipgram_split(sample_text, window=2)"
   ]
  },
  {
   "cell_type": "code",
   "execution_count": 13,
   "metadata": {},
   "outputs": [
    {
     "name": "stdout",
     "output_type": "stream",
     "text": [
      "Контекст: обратиться\n",
      "Центральное слово: решить\n",
      "\n",
      "Контекст: другой\n",
      "Центральное слово: решить\n",
      "\n",
      "Контекст: решить\n",
      "Центральное слово: обратиться\n",
      "\n",
      "Контекст: другой\n",
      "Центральное слово: обратиться\n",
      "\n",
      "Контекст: отделение\n",
      "Центральное слово: обратиться\n",
      "\n",
      "Контекст: решить\n",
      "Центральное слово: другой\n",
      "\n",
      "Контекст: обратиться\n",
      "Центральное слово: другой\n",
      "\n",
      "Контекст: отделение\n",
      "Центральное слово: другой\n",
      "\n",
      "Контекст: который\n",
      "Центральное слово: другой\n",
      "\n",
      "Контекст: обратиться\n",
      "Центральное слово: отделение\n",
      "\n",
      "Контекст: другой\n",
      "Центральное слово: отделение\n",
      "\n",
      "Контекст: который\n",
      "Центральное слово: отделение\n",
      "\n",
      "Контекст: находиться\n",
      "Центральное слово: отделение\n",
      "\n",
      "Контекст: другой\n",
      "Центральное слово: который\n",
      "\n",
      "Контекст: отделение\n",
      "Центральное слово: который\n",
      "\n",
      "Контекст: находиться\n",
      "Центральное слово: который\n",
      "\n",
      "Контекст: мир\n",
      "Центральное слово: который\n",
      "\n",
      "Контекст: отделение\n",
      "Центральное слово: находиться\n",
      "\n",
      "Контекст: который\n",
      "Центральное слово: находиться\n",
      "\n",
      "Контекст: мир\n",
      "Центральное слово: находиться\n",
      "\n",
      "Контекст: ##число\n",
      "Центральное слово: находиться\n",
      "\n",
      "Контекст: который\n",
      "Центральное слово: мир\n",
      "\n",
      "Контекст: находиться\n",
      "Центральное слово: мир\n",
      "\n",
      "Контекст: ##число\n",
      "Центральное слово: мир\n",
      "\n",
      "Контекст: находиться\n",
      "Центральное слово: ##число\n",
      "\n",
      "Контекст: мир\n",
      "Центральное слово: ##число\n",
      "\n"
     ]
    }
   ],
   "source": [
    "for sample in splits:\n",
    "    print('Контекст:', sample[0])\n",
    "    print('Центральное слово:', sample[1], end='\\n\\n')"
   ]
  },
  {
   "cell_type": "code",
   "execution_count": 14,
   "metadata": {},
   "outputs": [
    {
     "data": {
      "text/plain": [
       "[('обратиться', 'решить'),\n",
       " ('другой', 'решить'),\n",
       " ('решить', 'обратиться'),\n",
       " ('другой', 'обратиться'),\n",
       " ('отделение', 'обратиться'),\n",
       " ('решить', 'другой'),\n",
       " ('обратиться', 'другой'),\n",
       " ('отделение', 'другой'),\n",
       " ('который', 'другой'),\n",
       " ('обратиться', 'отделение'),\n",
       " ('другой', 'отделение'),\n",
       " ('который', 'отделение'),\n",
       " ('находиться', 'отделение'),\n",
       " ('другой', 'который'),\n",
       " ('отделение', 'который'),\n",
       " ('находиться', 'который'),\n",
       " ('мир', 'который'),\n",
       " ('отделение', 'находиться'),\n",
       " ('который', 'находиться'),\n",
       " ('мир', 'находиться'),\n",
       " ('##число', 'находиться'),\n",
       " ('который', 'мир'),\n",
       " ('находиться', 'мир'),\n",
       " ('##число', 'мир'),\n",
       " ('находиться', '##число'),\n",
       " ('мир', '##число')]"
      ]
     },
     "execution_count": 14,
     "metadata": {},
     "output_type": "execute_result"
    }
   ],
   "source": [
    "skipgram_split(sample_text, window=2)"
   ]
  },
  {
   "cell_type": "code",
   "execution_count": 15,
   "metadata": {},
   "outputs": [
    {
     "data": {
      "text/plain": [
       "[('обратиться', 'решить'),\n",
       " ('другой', 'решить'),\n",
       " ('отделение', 'решить'),\n",
       " ('решить', 'обратиться'),\n",
       " ('другой', 'обратиться'),\n",
       " ('отделение', 'обратиться'),\n",
       " ('который', 'обратиться'),\n",
       " ('решить', 'другой'),\n",
       " ('обратиться', 'другой'),\n",
       " ('отделение', 'другой'),\n",
       " ('который', 'другой'),\n",
       " ('находиться', 'другой'),\n",
       " ('решить', 'отделение'),\n",
       " ('обратиться', 'отделение'),\n",
       " ('другой', 'отделение'),\n",
       " ('который', 'отделение'),\n",
       " ('находиться', 'отделение'),\n",
       " ('мир', 'отделение'),\n",
       " ('обратиться', 'который'),\n",
       " ('другой', 'который'),\n",
       " ('отделение', 'который'),\n",
       " ('находиться', 'который'),\n",
       " ('мир', 'который'),\n",
       " ('##число', 'который'),\n",
       " ('другой', 'находиться'),\n",
       " ('отделение', 'находиться'),\n",
       " ('который', 'находиться'),\n",
       " ('мир', 'находиться'),\n",
       " ('##число', 'находиться'),\n",
       " ('отделение', 'мир'),\n",
       " ('который', 'мир'),\n",
       " ('находиться', 'мир'),\n",
       " ('##число', 'мир'),\n",
       " ('который', '##число'),\n",
       " ('находиться', '##число'),\n",
       " ('мир', '##число')]"
      ]
     },
     "execution_count": 15,
     "metadata": {},
     "output_type": "execute_result"
    }
   ],
   "source": [
    "skipgram_split(sample_text, window=3)"
   ]
  },
  {
   "cell_type": "code",
   "execution_count": 16,
   "metadata": {},
   "outputs": [],
   "source": [
    "word2index = {}\n",
    "\n",
    "for text in corpus:\n",
    "    for token in text:\n",
    "        if token not in word2index:\n",
    "            word2index[token] = len(word2index)"
   ]
  },
  {
   "cell_type": "code",
   "execution_count": 17,
   "metadata": {},
   "outputs": [
    {
     "data": {
      "text/plain": [
       "13128"
      ]
     },
     "execution_count": 17,
     "metadata": {},
     "output_type": "execute_result"
    }
   ],
   "source": [
    "len(word2index)"
   ]
  },
  {
   "cell_type": "code",
   "execution_count": 18,
   "metadata": {},
   "outputs": [
    {
     "data": {
      "text/plain": [
       "5"
      ]
     },
     "execution_count": 18,
     "metadata": {},
     "output_type": "execute_result"
    }
   ],
   "source": [
    "word2index['UNK']"
   ]
  },
  {
   "cell_type": "code",
   "execution_count": 19,
   "metadata": {},
   "outputs": [
    {
     "data": {
      "text/plain": [
       "[502, 1363, 5]"
      ]
     },
     "execution_count": 19,
     "metadata": {},
     "output_type": "execute_result"
    }
   ],
   "source": [
    "[word2index[tok] if tok in word2index else word2index['UNK'] for tok in 'мама мыть рама'.split()]"
   ]
  },
  {
   "cell_type": "markdown",
   "metadata": {},
   "source": [
    "# Мы будем учить модель Skipgram\n",
    "Читалка данных:"
   ]
  },
  {
   "cell_type": "code",
   "execution_count": 20,
   "metadata": {},
   "outputs": [],
   "source": [
    "from torch.utils.data import Dataset, DataLoader"
   ]
  },
  {
   "cell_type": "code",
   "execution_count": 21,
   "metadata": {},
   "outputs": [],
   "source": [
    "class SkipgramDataset(Dataset):\n",
    "\n",
    "    def __init__(self,\n",
    "                 corpus,\n",
    "                 word2index,\n",
    "                 window=2,\n",
    "                 unk_token='UNK',\n",
    "                 collect_verbose=True):\n",
    "\n",
    "        self.corpus = corpus\n",
    "        self.word2index = word2index\n",
    "        self.index2word = {value: key for key, value in self.word2index.items()}\n",
    "        self.window = window\n",
    "\n",
    "        self.unk_token = unk_token\n",
    "        self.unk_index = self.word2index[self.unk_token]\n",
    "\n",
    "        self.collect_verbose = collect_verbose\n",
    "\n",
    "        self.data = []\n",
    "\n",
    "        self.collect_data()\n",
    "        \n",
    "\n",
    "    def __len__(self):\n",
    "\n",
    "        return len(self.data)\n",
    "\n",
    "    def _split_function(self, tokens):\n",
    "        \n",
    "        splits = []\n",
    "        \n",
    "        for word in tokens:\n",
    "            index_central = tokens.index(word)\n",
    "            splits.extend([(tokens[i], word) for i in range(index_central - self.window, index_central) \\\n",
    "                           if i >= 0]) # left\n",
    "            splits.extend([(tokens[i], word) for i in range(index_central + 1, index_central + 1 + self.window) \\\n",
    "                       if i < len(tokens)]) # right\n",
    "\n",
    "        return splits\n",
    "\n",
    "    def indexing(self, tokenized_text):\n",
    "\n",
    "        return [self.word2index[token] if token in self.word2index else self.unk_index for token in tokenized_text]\n",
    "\n",
    "    def collect_data(self):\n",
    "\n",
    "        corpus = tqdm(self.corpus, disable=not self.collect_verbose)\n",
    "\n",
    "        for tokenized_text in corpus:\n",
    "            indexed_text = self.indexing(tokenized_text)\n",
    "            skipgram_examples = self._split_function(indexed_text)\n",
    "\n",
    "            self.data.extend(skipgram_examples)\n",
    "\n",
    "    def __getitem__(self, idx):\n",
    "        \n",
    "        context, central_word = self.data[idx]\n",
    "\n",
    "        return context, central_word"
   ]
  },
  {
   "cell_type": "code",
   "execution_count": 22,
   "metadata": {},
   "outputs": [
    {
     "name": "stderr",
     "output_type": "stream",
     "text": [
      "100%|██████████| 100000/100000 [00:04<00:00, 20773.47it/s]\n"
     ]
    }
   ],
   "source": [
    "dataset = SkipgramDataset(corpus, word2index)"
   ]
  },
  {
   "cell_type": "code",
   "execution_count": 23,
   "metadata": {},
   "outputs": [],
   "source": [
    "BATCH_SIZE = 512"
   ]
  },
  {
   "cell_type": "code",
   "execution_count": 24,
   "metadata": {},
   "outputs": [],
   "source": [
    "dataset_loader = DataLoader(dataset, shuffle=True, batch_size=BATCH_SIZE)"
   ]
  },
  {
   "cell_type": "code",
   "execution_count": 25,
   "metadata": {},
   "outputs": [],
   "source": [
    "for x, y in dataset_loader:\n",
    "    break"
   ]
  },
  {
   "cell_type": "code",
   "execution_count": 26,
   "metadata": {},
   "outputs": [
    {
     "data": {
      "text/plain": [
       "tensor([  45,  373,  521,   11, 2674])"
      ]
     },
     "execution_count": 26,
     "metadata": {},
     "output_type": "execute_result"
    }
   ],
   "source": [
    "x[:5]"
   ]
  },
  {
   "cell_type": "code",
   "execution_count": 27,
   "metadata": {},
   "outputs": [
    {
     "data": {
      "text/plain": [
       "tensor([177, 631, 272, 919, 151])"
      ]
     },
     "execution_count": 27,
     "metadata": {},
     "output_type": "execute_result"
    }
   ],
   "source": [
    "y[:5]"
   ]
  },
  {
   "cell_type": "code",
   "execution_count": 28,
   "metadata": {},
   "outputs": [
    {
     "data": {
      "text/plain": [
       "(torch.Size([512]), torch.Size([512]))"
      ]
     },
     "execution_count": 28,
     "metadata": {},
     "output_type": "execute_result"
    }
   ],
   "source": [
    "x.shape, y.shape"
   ]
  },
  {
   "cell_type": "markdown",
   "metadata": {},
   "source": [
    "Реализация модели Skipgram"
   ]
  },
  {
   "cell_type": "code",
   "execution_count": 29,
   "metadata": {},
   "outputs": [],
   "source": [
    "class SkipGram(torch.nn.Module):\n",
    "    \n",
    "    def __init__(self, vocab_size, embedding_dim):\n",
    "        \n",
    "        super().__init__()\n",
    "        \n",
    "        self.in_embedding = torch.nn.Embedding(num_embeddings=vocab_size, \n",
    "                                               embedding_dim=embedding_dim)\n",
    "        \n",
    "        self.out_embedding = torch.nn.Linear(in_features=embedding_dim,\n",
    "                                             out_features=vocab_size, bias=False)\n",
    "        \n",
    "    def forward(self, x):\n",
    "        \n",
    "        x = self.in_embedding(x)\n",
    "        x = self.out_embedding(x)\n",
    "        \n",
    "        return x"
   ]
  },
  {
   "cell_type": "code",
   "execution_count": 30,
   "metadata": {},
   "outputs": [],
   "source": [
    "EMBEDDING_DIM = 20"
   ]
  },
  {
   "cell_type": "code",
   "execution_count": 31,
   "metadata": {},
   "outputs": [],
   "source": [
    "model = SkipGram(vocab_size=len(word2index), embedding_dim=EMBEDDING_DIM)"
   ]
  },
  {
   "cell_type": "code",
   "execution_count": 32,
   "metadata": {},
   "outputs": [
    {
     "data": {
      "text/plain": [
       "torch.Size([512, 13128])"
      ]
     },
     "execution_count": 32,
     "metadata": {},
     "output_type": "execute_result"
    }
   ],
   "source": [
    "with torch.no_grad():\n",
    "    pred = model(x)\n",
    "\n",
    "pred.shape"
   ]
  },
  {
   "cell_type": "code",
   "execution_count": 33,
   "metadata": {},
   "outputs": [],
   "source": [
    "optimizer = torch.optim.Adam(params=model.parameters(), lr=0.001)\n",
    "criterion = torch.nn.CrossEntropyLoss()"
   ]
  },
  {
   "cell_type": "code",
   "execution_count": 34,
   "metadata": {},
   "outputs": [
    {
     "name": "stderr",
     "output_type": "stream",
     "text": [
      "Epoch 1: 100%|██████████| 2992029/2992029 [07:41<00:00, 6487.64it/s, loss=7.1] \n",
      "Epoch 2: 100%|██████████| 2992029/2992029 [08:54<00:00, 5594.05it/s, loss=6.97]\n",
      "Epoch 3: 100%|██████████| 2992029/2992029 [08:47<00:00, 5877.25it/s, loss=6.9] \n"
     ]
    }
   ],
   "source": [
    "epochs = 3\n",
    "\n",
    "losses = []\n",
    "\n",
    "for n_epoch in range(epochs):\n",
    "\n",
    "    try:\n",
    "\n",
    "        progress_bar = tqdm(total=len(dataset_loader.dataset), desc='Epoch {}'.format(n_epoch + 1))\n",
    "\n",
    "        for x, y in dataset_loader:\n",
    "            \n",
    "            optimizer.zero_grad()\n",
    "            x_out = model(x)\n",
    "            loss = criterion(x_out, y)\n",
    "            loss.backward()\n",
    "            optimizer.step()\n",
    "            \n",
    "            losses.append(loss.item())\n",
    "            \n",
    "            progress_bar.set_postfix(loss=np.mean(losses[-100:]))\n",
    "\n",
    "            progress_bar.update(x.shape[0])\n",
    "\n",
    "        progress_bar.close()\n",
    "\n",
    "    except KeyboardInterrupt:\n",
    "\n",
    "        progress_bar.close()\n",
    "        break"
   ]
  },
  {
   "cell_type": "code",
   "execution_count": 35,
   "metadata": {},
   "outputs": [
    {
     "data": {
      "text/plain": [
       "[<matplotlib.lines.Line2D at 0x13e841550>]"
      ]
     },
     "execution_count": 35,
     "metadata": {},
     "output_type": "execute_result"
    },
    {
     "data": {
      "image/png": "[encoded data removed]",
      "text/plain": [
       "<Figure size 432x288 with 1 Axes>"
      ]
     },
     "metadata": {
      "needs_background": "light"
     },
     "output_type": "display_data"
    }
   ],
   "source": [
    "plt.title('SkipGram Training Process')\n",
    "plt.xlabel('Iterations')\n",
    "plt.ylabel('Loss')\n",
    "plt.grid()\n",
    "plt.plot(losses)"
   ]
  },
  {
   "cell_type": "code",
   "execution_count": 37,
   "metadata": {},
   "outputs": [],
   "source": [
    "embedding_matrix = model.in_embedding.weight.detach()"
   ]
  },
  {
   "cell_type": "code",
   "execution_count": 38,
   "metadata": {},
   "outputs": [],
   "source": [
    "def cos_sim(embedding_matrix, token2id, word1, word2):\n",
    "    \n",
    "    i1 = token2id[word1]\n",
    "    i2 = token2id[word2]\n",
    "    \n",
    "    v1, v2 = embedding_matrix[i1], embedding_matrix[i2]\n",
    "    \n",
    "    v1_n = v1.div(v1.norm(keepdim=True))\n",
    "    v2_n = v2.div(v2.norm(keepdim=True))\n",
    "    \n",
    "    similarity = torch.dot(v1_n, v2_n).item()\n",
    "    \n",
    "    return similarity"
   ]
  },
  {
   "cell_type": "markdown",
   "metadata": {},
   "source": [
    "# Косинусная близость"
   ]
  },
  {
   "cell_type": "code",
   "execution_count": 39,
   "metadata": {},
   "outputs": [
    {
     "data": {
      "text/plain": [
       "0.5763727426528931"
      ]
     },
     "execution_count": 39,
     "metadata": {},
     "output_type": "execute_result"
    }
   ],
   "source": [
    "cos_sim(embedding_matrix, word2index, 'день', 'месяц')"
   ]
  },
  {
   "cell_type": "code",
   "execution_count": 40,
   "metadata": {},
   "outputs": [
    {
     "data": {
      "text/plain": [
       "0.518550455570221"
      ]
     },
     "execution_count": 40,
     "metadata": {},
     "output_type": "execute_result"
    }
   ],
   "source": [
    "cos_sim(embedding_matrix, word2index, 'минута', 'месяц')"
   ]
  },
  {
   "cell_type": "code",
   "execution_count": 41,
   "metadata": {},
   "outputs": [
    {
     "data": {
      "text/plain": [
       "0.8640899062156677"
      ]
     },
     "execution_count": 41,
     "metadata": {},
     "output_type": "execute_result"
    }
   ],
   "source": [
    "cos_sim(embedding_matrix, word2index, 'сотрудник', 'сотрудница')"
   ]
  },
  {
   "cell_type": "code",
   "execution_count": 42,
   "metadata": {},
   "outputs": [
    {
     "data": {
      "text/plain": [
       "0.1611856073141098"
      ]
     },
     "execution_count": 42,
     "metadata": {},
     "output_type": "execute_result"
    }
   ],
   "source": [
    "cos_sim(embedding_matrix, word2index, 'вклад', 'перевод')"
   ]
  },
  {
   "cell_type": "code",
   "execution_count": 43,
   "metadata": {},
   "outputs": [
    {
     "data": {
      "text/plain": [
       "'Косинусная близость слова \"день\" к случайному выбраному слову \"срабатывать\" равна 0.255'"
      ]
     },
     "execution_count": 43,
     "metadata": {},
     "output_type": "execute_result"
    }
   ],
   "source": [
    "random_word = random.choice(list(word2index.keys()))\n",
    "sim = cos_sim(embedding_matrix, word2index, 'день', random_word)\n",
    "'Косинусная близость слова \"день\" к случайному выбраному слову \"{}\" равна {:.3f}'.format(random_word, sim)"
   ]
  },
  {
   "cell_type": "code",
   "execution_count": 44,
   "metadata": {},
   "outputs": [],
   "source": [
    "freq = {}\n",
    "\n",
    "for text in corpus:\n",
    "    for token in text:\n",
    "        if token in freq:\n",
    "            freq[token] += 1\n",
    "        else:\n",
    "            freq[token] = 1"
   ]
  },
  {
   "cell_type": "code",
   "execution_count": 45,
   "metadata": {},
   "outputs": [],
   "source": [
    "sorted_freq = [(k, freq[k]) for k in sorted(freq, key=freq.get, reverse=True)]\n",
    "top_sorted_freq = sorted_freq[0:200]"
   ]
  },
  {
   "cell_type": "code",
   "execution_count": 46,
   "metadata": {},
   "outputs": [
    {
     "name": "stdout",
     "output_type": "stream",
     "text": [
      "[t-SNE] Computing 91 nearest neighbors...\n",
      "[t-SNE] Indexed 13128 samples in 0.021s...\n",
      "[t-SNE] Computed neighbors for 13128 samples in 13.668s...\n",
      "[t-SNE] Computed conditional probabilities for sample 1000 / 13128\n",
      "[t-SNE] Computed conditional probabilities for sample 2000 / 13128\n",
      "[t-SNE] Computed conditional probabilities for sample 3000 / 13128\n",
      "[t-SNE] Computed conditional probabilities for sample 4000 / 13128\n",
      "[t-SNE] Computed conditional probabilities for sample 5000 / 13128\n",
      "[t-SNE] Computed conditional probabilities for sample 6000 / 13128\n",
      "[t-SNE] Computed conditional probabilities for sample 7000 / 13128\n",
      "[t-SNE] Computed conditional probabilities for sample 8000 / 13128\n",
      "[t-SNE] Computed conditional probabilities for sample 9000 / 13128\n",
      "[t-SNE] Computed conditional probabilities for sample 10000 / 13128\n",
      "[t-SNE] Computed conditional probabilities for sample 11000 / 13128\n",
      "[t-SNE] Computed conditional probabilities for sample 12000 / 13128\n",
      "[t-SNE] Computed conditional probabilities for sample 13000 / 13128\n",
      "[t-SNE] Computed conditional probabilities for sample 13128 / 13128\n",
      "[t-SNE] Mean sigma: 1.163795\n",
      "[t-SNE] Computed conditional probabilities in 0.711s\n",
      "[t-SNE] Iteration 50: error = 98.6944046, gradient norm = 0.0000000 (50 iterations in 11.974s)\n",
      "[t-SNE] Iteration 50: gradient norm 0.000000. Finished.\n",
      "[t-SNE] KL divergence after 50 iterations with early exaggeration: 98.694405\n",
      "[t-SNE] Iteration 100: error = 5.7287145, gradient norm = 0.0000096 (50 iterations in 18.323s)\n",
      "[t-SNE] Iteration 150: error = 4.9630423, gradient norm = 0.0005358 (50 iterations in 8.751s)\n",
      "[t-SNE] Iteration 200: error = 4.8657274, gradient norm = 0.0003434 (50 iterations in 9.310s)\n",
      "[t-SNE] Iteration 250: error = 4.7874870, gradient norm = 0.0002531 (50 iterations in 7.983s)\n",
      "[t-SNE] Iteration 300: error = 4.7273831, gradient norm = 0.0001928 (50 iterations in 7.934s)\n",
      "[t-SNE] Iteration 350: error = 4.6774030, gradient norm = 0.0001557 (50 iterations in 9.755s)\n",
      "[t-SNE] Iteration 400: error = 4.6364269, gradient norm = 0.0001256 (50 iterations in 11.097s)\n",
      "[t-SNE] Iteration 450: error = 4.6021175, gradient norm = 0.0001065 (50 iterations in 11.400s)\n",
      "[t-SNE] Iteration 500: error = 4.5730777, gradient norm = 0.0000904 (50 iterations in 8.740s)\n",
      "[t-SNE] Iteration 550: error = 4.5483212, gradient norm = 0.0000766 (50 iterations in 7.420s)\n",
      "[t-SNE] Iteration 600: error = 4.5269299, gradient norm = 0.0000688 (50 iterations in 12.474s)\n",
      "[t-SNE] Iteration 650: error = 4.5087695, gradient norm = 0.0000618 (50 iterations in 9.022s)\n",
      "[t-SNE] Iteration 700: error = 4.4929891, gradient norm = 0.0000550 (50 iterations in 9.711s)\n",
      "[t-SNE] Iteration 750: error = 4.4794488, gradient norm = 0.0000500 (50 iterations in 8.017s)\n",
      "[t-SNE] Iteration 800: error = 4.4675012, gradient norm = 0.0000452 (50 iterations in 7.672s)\n",
      "[t-SNE] Iteration 850: error = 4.4570775, gradient norm = 0.0000415 (50 iterations in 7.633s)\n",
      "[t-SNE] Iteration 900: error = 4.4480286, gradient norm = 0.0000384 (50 iterations in 7.892s)\n",
      "[t-SNE] Iteration 950: error = 4.4401574, gradient norm = 0.0000366 (50 iterations in 12.228s)\n",
      "[t-SNE] Iteration 1000: error = 4.4331894, gradient norm = 0.0000345 (50 iterations in 10.002s)\n",
      "[t-SNE] KL divergence after 1000 iterations: 4.433189\n"
     ]
    }
   ],
   "source": [
    "tsne = TSNE(n_components=2, random_state=42, verbose=2)\n",
    "reduced = tsne.fit_transform(embedding_matrix)"
   ]
  },
  {
   "cell_type": "code",
   "execution_count": 47,
   "metadata": {},
   "outputs": [],
   "source": [
    "top_words = [a for a,_ in top_sorted_freq]"
   ]
  },
  {
   "cell_type": "code",
   "execution_count": 48,
   "metadata": {},
   "outputs": [],
   "source": [
    "inds = [word2index[word] for word in top_words]\n",
    "x_coords = [coords[0] for coords in reduced[inds]]\n",
    "y_coords = [coords[1] for coords in reduced[inds]]"
   ]
  },
  {
   "cell_type": "code",
   "execution_count": 49,
   "metadata": {
    "scrolled": false
   },
   "outputs": [
    {
     "data": {
      "image/png": "[encoded data removed]",
      "text/plain": [
       "<Figure size 1080x1080 with 1 Axes>"
      ]
     },
     "metadata": {
      "needs_background": "light"
     },
     "output_type": "display_data"
    }
   ],
   "source": [
    "plt.figure(figsize=(15,15))\n",
    "for (x, y, word) in zip(x_coords, y_coords, top_words):\n",
    "    plt.scatter(x, y, marker='.', color='blue')\n",
    "    plt.text(x, y, word, fontsize=9)\n",
    "plt.show()"
   ]
  }
 ],
 "metadata": {
  "kernelspec": {
   "display_name": "Python 3",
   "language": "python",
   "name": "python3"
  },
  "language_info": {
   "codemirror_mode": {
    "name": "ipython",
    "version": 3
   },
   "file_extension": ".py",
   "mimetype": "text/x-python",
   "name": "python",
   "nbconvert_exporter": "python",
   "pygments_lexer": "ipython3",
   "version": "3.7.4"
  }
 },
 "nbformat": 4,
 "nbformat_minor": 2
}
